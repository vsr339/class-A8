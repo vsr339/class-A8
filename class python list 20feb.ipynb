{
 "cells": [
  {
   "cell_type": "code",
   "execution_count": 1,
   "id": "79559774-1968-4a64-abb9-106bf4323c64",
   "metadata": {},
   "outputs": [
    {
     "name": "stdout",
     "output_type": "stream",
     "text": [
      "88\n"
     ]
    }
   ],
   "source": [
    "max=0\n",
    "list=[10,20,30,50,88]\n",
    "for i in range(0,len(list)):\n",
    "    if(list[i]>max):\n",
    "        max=list[i]\n",
    "print(max)\n"
   ]
  },
  {
   "cell_type": "code",
   "execution_count": 5,
   "id": "0952eefc-93fb-416f-a26b-ae4263b2c0c4",
   "metadata": {},
   "outputs": [
    {
     "name": "stdout",
     "output_type": "stream",
     "text": [
      "max value =  88 second max value =  50\n"
     ]
    }
   ],
   "source": [
    "max=0\n",
    "smax=0\n",
    "list=[10,20,30,50,88]\n",
    "for i in range(0,len(list)):\n",
    "    if(list[i]>max):\n",
    "        smax=max\n",
    "        max=list[i]\n",
    "print('max value = ',max,'second max value = ',smax)"
   ]
  },
  {
   "cell_type": "code",
   "execution_count": 7,
   "id": "fd11e959-3d73-4fea-a1b4-c232df0ed981",
   "metadata": {},
   "outputs": [
    {
     "name": "stdout",
     "output_type": "stream",
     "text": [
      "max value =  88 second max value =  65\n"
     ]
    }
   ],
   "source": [
    "max=0\n",
    "smax=0\n",
    "list=[10,20,30,50,88,65]\n",
    "for i in range(0,len(list)):\n",
    "    if(list[i]>max):\n",
    "        smax=max\n",
    "        max=list[i]\n",
    "    elif(list[i]>smax):\n",
    "        smax=list[i]\n",
    "print('max value = ',max,'second max value = ',smax)"
   ]
  },
  {
   "cell_type": "code",
   "execution_count": 10,
   "id": "d4321e4c-c1fd-4110-ba85-0869249ee61b",
   "metadata": {},
   "outputs": [
    {
     "name": "stdout",
     "output_type": "stream",
     "text": [
      "duplicate 10\n"
     ]
    }
   ],
   "source": [
    "#duplicate value in list\n",
    "list=[10,20,30,40,10]\n",
    "for i in range(0,len(list)):\n",
    "    for j in range(i+1,len(list)):\n",
    "        if(list[i]==list[j]):\n",
    "            print(\"duplicate\",list[i])"
   ]
  },
  {
   "cell_type": "code",
   "execution_count": 13,
   "id": "65be09eb-1509-48a0-928c-f8bbdb449bdc",
   "metadata": {},
   "outputs": [
    {
     "name": "stdout",
     "output_type": "stream",
     "text": [
      "10 + 50 = 60\n",
      "20 + 40 = 60\n",
      "10 + 50 = 60\n"
     ]
    }
   ],
   "source": [
    "list=[10,20,30,40,10,50]\n",
    "target=60\n",
    "for i in range(0,len(list)):\n",
    "    for j in range(i+1,len(list)):\n",
    "        add=list[i]+list[j]\n",
    "        if(add==target):\n",
    "            print(list[i],\"+\",list[j],\"=\",add)"
   ]
  },
  {
   "cell_type": "code",
   "execution_count": 14,
   "id": "34a8a84e-9377-46b7-9aee-aa9c767768be",
   "metadata": {},
   "outputs": [
    {
     "name": "stdout",
     "output_type": "stream",
     "text": [
      "<class 'tuple'>\n"
     ]
    }
   ],
   "source": [
    "x=10,48,57\n",
    "print(type(x))"
   ]
  },
  {
   "cell_type": "code",
   "execution_count": 16,
   "id": "435dcd9f-7449-4e25-be21-e0db8267d216",
   "metadata": {},
   "outputs": [
    {
     "name": "stdout",
     "output_type": "stream",
     "text": [
      "(10, 48, 57, 'hey')\n"
     ]
    }
   ],
   "source": [
    "x=10,48,57,\"hey\"\n",
    "x[3]\n",
    "print(x)"
   ]
  },
  {
   "cell_type": "code",
   "execution_count": 19,
   "id": "0ae8ebf3-2dfc-4594-bdbe-701a2755b1be",
   "metadata": {},
   "outputs": [
    {
     "name": "stdout",
     "output_type": "stream",
     "text": [
      "{1001: 'vikram', 1002: 'vijay', 1003: 'vijay'}\n"
     ]
    }
   ],
   "source": [
    "aadhar={1001:\"vikram\", 1002:\"vijay\", 1003:\"vijay\"}\n",
    "print(aadhar)"
   ]
  },
  {
   "cell_type": "code",
   "execution_count": 22,
   "id": "093846ac-96e9-43a6-960f-10f117240c00",
   "metadata": {},
   "outputs": [
    {
     "name": "stdout",
     "output_type": "stream",
     "text": [
      "{1001: 'vikram', 1002: 'vijay', 1003: 'vijay', 1004: 'aman'}\n"
     ]
    }
   ],
   "source": [
    "aadhar={1001:\"vikram\", 1002:\"vijay\", 1003:\"vijay\"}\n",
    "aadhar[1004]=\"aman\"\n",
    "print(aadhar)"
   ]
  },
  {
   "cell_type": "code",
   "execution_count": 23,
   "id": "05d6299f-1fa0-4d5a-8dee-cce2b2505c4b",
   "metadata": {},
   "outputs": [
    {
     "name": "stdout",
     "output_type": "stream",
     "text": [
      "{1001: 'vikram', 1002: 'aman', 1003: 'vijay', 1100: 'arun'}\n"
     ]
    }
   ],
   "source": [
    "aadhar={1001:\"vikram\", 1002:\"vijay\", 1003:\"vijay\"}\n",
    "aadhar[1002]=\"aman\"  #update\n",
    "aadhar[1100]=\"arun\"  #insert\n",
    "print(aadhar)"
   ]
  },
  {
   "cell_type": "code",
   "execution_count": 24,
   "id": "01cf5aa0-b2c5-42f3-aa08-40c454dae034",
   "metadata": {},
   "outputs": [
    {
     "name": "stdout",
     "output_type": "stream",
     "text": [
      "{1: 20, 2: 56, 3: 34}\n"
     ]
    }
   ],
   "source": [
    "mark={1:20,2:56,3:31}\n",
    "mark[3]+=3\n",
    "print(mark)"
   ]
  },
  {
   "cell_type": "code",
   "execution_count": 27,
   "id": "7ebc8ba3-83bf-40c3-8a54-6dda5d01f847",
   "metadata": {},
   "outputs": [
    {
     "name": "stdout",
     "output_type": "stream",
     "text": [
      "{100: 43}\n"
     ]
    }
   ],
   "source": [
    "count={100:0}\n",
    "for i in range(56,99):\n",
    "    count[100]+=1\n",
    "print(count)"
   ]
  },
  {
   "cell_type": "code",
   "execution_count": 31,
   "id": "0e03f42d-a683-4d7a-acc9-59c927fbcbd1",
   "metadata": {},
   "outputs": [
    {
     "name": "stdout",
     "output_type": "stream",
     "text": [
      "{'total': 10}\n"
     ]
    }
   ],
   "source": [
    "mychar={\"total\":0}\n",
    "data=\"rhytam bde\"\n",
    "for i in data:\n",
    "    mychar[\"total\"]+=1\n",
    "print(mychar)\n"
   ]
  },
  {
   "cell_type": "code",
   "execution_count": 32,
   "id": "a06702ae-e4f5-47e3-8ffc-353ba96c1cdd",
   "metadata": {},
   "outputs": [
    {
     "name": "stdout",
     "output_type": "stream",
     "text": [
      "{'total': 10}\n"
     ]
    }
   ],
   "source": [
    "mychar={\"total\":0}\n",
    "data=\"rhytam bde\"\n",
    "for i in range (len(data)):\n",
    "    mychar[\"total\"]+=1\n",
    "print(mychar)\n"
   ]
  },
  {
   "cell_type": "code",
   "execution_count": null,
   "id": "2dcd1742-4a05-45eb-abb5-e9806a8af914",
   "metadata": {},
   "outputs": [],
   "source": []
  }
 ],
 "metadata": {
  "kernelspec": {
   "display_name": "Python 3 (ipykernel)",
   "language": "python",
   "name": "python3"
  },
  "language_info": {
   "codemirror_mode": {
    "name": "ipython",
    "version": 3
   },
   "file_extension": ".py",
   "mimetype": "text/x-python",
   "name": "python",
   "nbconvert_exporter": "python",
   "pygments_lexer": "ipython3",
   "version": "3.11.9"
  }
 },
 "nbformat": 4,
 "nbformat_minor": 5
}
